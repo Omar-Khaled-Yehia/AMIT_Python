{
  "nbformat": 4,
  "nbformat_minor": 0,
  "metadata": {
    "colab": {
      "provenance": []
    },
    "kernelspec": {
      "name": "python3",
      "display_name": "Python 3"
    },
    "language_info": {
      "name": "python"
    }
  },
  "cells": [
    {
      "cell_type": "code",
      "execution_count": 3,
      "metadata": {
        "id": "0pkgN8lYskpy"
      },
      "outputs": [],
      "source": [
        "### Create a simple class names calculator & ### Create a constructor that prints Welcome message & ###  Add 2 methods to the class sum & mull & ###  The sum and mul methods return the sum of 2 arguments x and y\n",
        "class calc:\n",
        "  def __init__(self):\n",
        "    print(\"Welcome to Calculator!!!\")\n",
        "\n",
        "  def sum(self,x,y):\n",
        "    return x + y\n",
        "\n",
        "  def mul(self,x,y):\n",
        "    return x * y\n"
      ]
    },
    {
      "cell_type": "code",
      "source": [
        "###  Take an object from the class\n",
        "c = calc()"
      ],
      "metadata": {
        "colab": {
          "base_uri": "https://localhost:8080/"
        },
        "id": "ZW1l3OqXxbZ6",
        "outputId": "f2ebdf56-8923-4a2c-b09f-c826181aa266"
      },
      "execution_count": 5,
      "outputs": [
        {
          "output_type": "stream",
          "name": "stdout",
          "text": [
            "Welcome to Calculator!!!\n"
          ]
        }
      ]
    },
    {
      "cell_type": "code",
      "source": [
        "### Explain in few words why we call the self in methods\n",
        "print(\"To represent an instance of a class\")"
      ],
      "metadata": {
        "colab": {
          "base_uri": "https://localhost:8080/"
        },
        "id": "Tic3L_lexgiD",
        "outputId": "8507c39d-4ff5-41f9-8ac3-1db99d514e58"
      },
      "execution_count": 6,
      "outputs": [
        {
          "output_type": "stream",
          "name": "stdout",
          "text": [
            "To represent an instance of a class\n"
          ]
        }
      ]
    },
    {
      "cell_type": "code",
      "source": [
        "### What we mean with OOP 4 Pillars\n",
        "print(\"Inheritance, polymorphism, encapsulation and abstraction\")"
      ],
      "metadata": {
        "colab": {
          "base_uri": "https://localhost:8080/"
        },
        "id": "_K_XIJfixwft",
        "outputId": "9b63a846-6579-4246-ad3a-470e83a39530"
      },
      "execution_count": 7,
      "outputs": [
        {
          "output_type": "stream",
          "name": "stdout",
          "text": [
            "Inheritance, polymorphism, encapsulation and abstraction\n"
          ]
        }
      ]
    },
    {
      "cell_type": "code",
      "source": [
        "###  Why we use OOP in our code\n",
        "print(\"To have a well structured code that is easy to edit and also for maximum reusability\")"
      ],
      "metadata": {
        "colab": {
          "base_uri": "https://localhost:8080/"
        },
        "id": "PhS_rj8Py6aq",
        "outputId": "7f4b3678-8264-4f04-e736-817c441a69c6"
      },
      "execution_count": 8,
      "outputs": [
        {
          "output_type": "stream",
          "name": "stdout",
          "text": [
            "To have a well structured code that is easy to edit and also for maximum reusability\n"
          ]
        }
      ]
    },
    {
      "cell_type": "code",
      "source": [
        "### Create a new class names SciCalc with 3 methods , sum , mull , power all of them takes 2 argument x, y\n",
        "class SciCalc:\n",
        "  def __init__(self):\n",
        "    pass\n",
        "  def sum(self,x,y):\n",
        "    return x + y\n",
        "\n",
        "  def mul(self,x,y):\n",
        "    return x * y\n",
        "\n",
        "  def pow(self,x,y):\n",
        "    return x**y\n",
        ""
      ],
      "metadata": {
        "id": "uUXUdAVazbal"
      },
      "execution_count": 10,
      "outputs": []
    },
    {
      "cell_type": "code",
      "source": [
        "### Inherit from the Calc class , now remove the unneeded code the the SciCalc after inheriting\n",
        "class SciCalc(calc):\n",
        "  def __init__(self):\n",
        "    pass\n",
        "\n",
        "  def pow(self,x,y):\n",
        "    return x**y"
      ],
      "metadata": {
        "id": "pEA-7Qse0q5H"
      },
      "execution_count": 11,
      "outputs": []
    },
    {
      "cell_type": "code",
      "source": [
        "### Explain in few words what happened after inheriting\n",
        "print(\"As if the SciCalc would become of type calc so it would have its methods \")"
      ],
      "metadata": {
        "colab": {
          "base_uri": "https://localhost:8080/"
        },
        "id": "albcbZ9V03-4",
        "outputId": "abc0ac3f-23c4-41b1-9673-1bdb2a15b818"
      },
      "execution_count": 12,
      "outputs": [
        {
          "output_type": "stream",
          "name": "stdout",
          "text": [
            "As if the SciCalc would become of type calc so it would have its methods \n"
          ]
        }
      ]
    }
  ]
}