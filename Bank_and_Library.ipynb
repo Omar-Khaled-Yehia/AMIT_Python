{
  "nbformat": 4,
  "nbformat_minor": 0,
  "metadata": {
    "colab": {
      "provenance": []
    },
    "kernelspec": {
      "name": "python3",
      "display_name": "Python 3"
    },
    "language_info": {
      "name": "python"
    }
  },
  "cells": [
    {
      "cell_type": "code",
      "execution_count": 49,
      "metadata": {
        "id": "jS9bSEeUcHtJ"
      },
      "outputs": [],
      "source": [
        "class bank():\n",
        "  def __init__(self):\n",
        "    print(\"Welcome to The Python Bank!!!\")\n",
        "    self.users={}\n",
        "    self.users_balance={}\n",
        "\n",
        "  def register(self,username,password):\n",
        "    if username not in self.users:\n",
        "      self.users[username]=password\n",
        "      self.users_balance[username]=0\n",
        "      print(\"Registration successfull.\")\n",
        "    else:\n",
        "      print(\"Please enter another username: \")\n",
        "\n",
        "  def login(self,username,password):\n",
        "    if username in self.users and self.users[username]==password:\n",
        "      print(\"Login successfull\")\n",
        "      return True\n",
        "    else:\n",
        "      print(\"Please try another username or password\")\n",
        "      return False\n",
        "\n",
        "  def check_balance(self,username):\n",
        "    if username in self.users_balance:\n",
        "      print(f\"Your balance is ${self.users_balance[username]}\")\n",
        "    else:\n",
        "      print(\"Please login.\")\n",
        "\n",
        "  #Didn't know how to search for the username in users or users_balance if I didn't take username in each method.\n",
        "  def deposit(self,username,amount):\n",
        "    if username in self.users_balance:\n",
        "      self.users_balance[username]+=amount\n",
        "      print(f\"Your balance is now ${self.users_balance[username]}\")\n",
        "    else:\n",
        "      print(\"Please enter your username correctly.\")\n",
        "\n",
        "  def withdrawal(self,username,amount):\n",
        "    if username in self.users_balance and amount <=self.users_balance[username]:\n",
        "      self.users_balance[username]-=amount\n",
        "      print(f\"Your balance is now ${self.users_balance[username]}\")\n",
        "\n",
        "    else:\n",
        "      print(\"Please enter your username correctly.\")\n",
        "\n"
      ]
    },
    {
      "cell_type": "code",
      "source": [
        "b1=bank()\n",
        "b1.register(\"khaled\",1234)\n",
        "\n",
        "b1.login(\"khaled\",1234)\n",
        "b1.check_balance(\"khaled\")\n",
        "b1.deposit(\"khaled\",150)\n",
        "b1.withdrawal(\"khaled\",50)"
      ],
      "metadata": {
        "id": "wum-bOfrrE7u",
        "colab": {
          "base_uri": "https://localhost:8080/"
        },
        "outputId": "ecd6d718-579c-4251-a99f-be8aabf2ff45"
      },
      "execution_count": 50,
      "outputs": [
        {
          "output_type": "stream",
          "name": "stdout",
          "text": [
            "Welcome to The Python Bank!!!\n",
            "Registration successfull.\n",
            "Login successfull\n",
            "Your balance is $0\n",
            "Your balance is now $150\n",
            "Your balance is now $100\n"
          ]
        }
      ]
    },
    {
      "cell_type": "code",
      "source": [
        "class library():\n",
        "  def __init__(self):\n",
        "    print(\"Welcome to The Python Library!!!\")\n",
        "    self.gameslist=[\"Fifa\",\"COD\",\"Valorant\",\"TFT\",\"Rocket\",\"Fort\"]\n",
        "    self.lenders={}\n",
        "    self.donors={}\n",
        "\n",
        "  def games(self):\n",
        "    return self.gameslist\n",
        "\n",
        "  def lend(self,lender_name,game):\n",
        "    self.lenders[lender_name]=game\n",
        "    self.gameslist.remove(game)\n",
        "\n",
        "  def returnb(self,name,game):\n",
        "    del self.lenders[name]\n",
        "    self.gameslist.append(game)\n",
        "\n",
        "  def donate(self,donator_name,game):\n",
        "    self.lenders[donator_name]=game\n",
        "    self.gameslist.append(game)"
      ],
      "metadata": {
        "id": "yBO0-YavDhdA"
      },
      "execution_count": 59,
      "outputs": []
    },
    {
      "cell_type": "code",
      "source": [
        "l1=library()\n",
        "l1.games()\n",
        "l1.lend(\"omar\",\"Fifa\")\n",
        "l1.games()\n",
        "l1.returnb(\"omar\",\"Spiderman\")\n",
        "l1.games()\n",
        "l1.donate(\"omar\",\"StarWars\")\n",
        "l1.games()\n"
      ],
      "metadata": {
        "colab": {
          "base_uri": "https://localhost:8080/"
        },
        "id": "6YQiWrtmNJ6I",
        "outputId": "35091ba6-7f7e-46ee-9606-2798f798e6c8"
      },
      "execution_count": 65,
      "outputs": [
        {
          "output_type": "stream",
          "name": "stdout",
          "text": [
            "Welcome to The Python Library!!!\n"
          ]
        },
        {
          "output_type": "execute_result",
          "data": {
            "text/plain": [
              "['COD', 'Valorant', 'TFT', 'Rocket', 'Fort', 'Spiderman', 'StarWars']"
            ]
          },
          "metadata": {},
          "execution_count": 65
        }
      ]
    },
    {
      "cell_type": "code",
      "source": [],
      "metadata": {
        "id": "HrdpD1LdNq3X"
      },
      "execution_count": null,
      "outputs": []
    }
  ]
}