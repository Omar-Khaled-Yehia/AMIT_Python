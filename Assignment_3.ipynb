{
  "nbformat": 4,
  "nbformat_minor": 0,
  "metadata": {
    "colab": {
      "provenance": []
    },
    "kernelspec": {
      "name": "python3",
      "display_name": "Python 3"
    },
    "language_info": {
      "name": "python"
    }
  },
  "cells": [
    {
      "cell_type": "code",
      "execution_count": 1,
      "metadata": {
        "colab": {
          "base_uri": "https://localhost:8080/"
        },
        "id": "EGs383om07q7",
        "outputId": "fd08ef90-b9fe-4006-af73-dc9c5e79fbd1"
      },
      "outputs": [
        {
          "output_type": "stream",
          "name": "stdout",
          "text": [
            "enter word: omar\n",
            "2\n"
          ]
        }
      ],
      "source": [
        "### program to count number of vowels using sets in given string\n",
        "vowels=set(\"aeiou\")\n",
        "s1=input(\"enter word: \").lower()\n",
        "sum =0\n",
        "for i in s1:\n",
        "  if i in vowels:\n",
        "    sum+=1\n",
        "print(sum)"
      ]
    },
    {
      "cell_type": "code",
      "source": [
        "### Write a Python program to add an item to a tuple.\n",
        "t1 = (1,2,3)\n",
        "x=int(input(\"enter a number: \"))\n",
        "t1=list(t1)\n",
        "t1.append(x)\n",
        "print(t1)"
      ],
      "metadata": {
        "colab": {
          "base_uri": "https://localhost:8080/"
        },
        "id": "I_kATk4s2Ciw",
        "outputId": "fd900722-3486-46d1-d108-334aead9dc13"
      },
      "execution_count": 20,
      "outputs": [
        {
          "output_type": "stream",
          "name": "stdout",
          "text": [
            "enter a number: 5\n",
            "[1, 2, 3, 5]\n"
          ]
        }
      ]
    },
    {
      "cell_type": "code",
      "source": [
        "### Write a Python program to multiply all the items in a list.\n",
        "lst = [1,2,3,4,5,6,7,8,9]\n",
        "mul = 1\n",
        "for i in lst:\n",
        "  mul*=i\n",
        "print(mul)"
      ],
      "metadata": {
        "colab": {
          "base_uri": "https://localhost:8080/"
        },
        "id": "vQgl_NOs3-Oi",
        "outputId": "2ab9c7a1-86b5-4bb2-e833-bec592e32821"
      },
      "execution_count": 22,
      "outputs": [
        {
          "output_type": "stream",
          "name": "stdout",
          "text": [
            "362880\n"
          ]
        }
      ]
    },
    {
      "cell_type": "code",
      "source": [
        "### Write a Python program to get the smallest number from a list.\n",
        "l1=[99,54,12,1004,6547,21,20]\n",
        "print(min(l1))"
      ],
      "metadata": {
        "colab": {
          "base_uri": "https://localhost:8080/"
        },
        "id": "f5vvWg874S4X",
        "outputId": "afe5faeb-896d-48bf-c254-a1c69758c26c"
      },
      "execution_count": 26,
      "outputs": [
        {
          "output_type": "stream",
          "name": "stdout",
          "text": [
            "12\n"
          ]
        }
      ]
    },
    {
      "cell_type": "code",
      "source": [
        "### Write a Python program to get the largest number from a list.\n",
        "l1=[99,54,12,1004,6547,21,20]\n",
        "print(max(l1))"
      ],
      "metadata": {
        "colab": {
          "base_uri": "https://localhost:8080/"
        },
        "id": "-EwKnMAd4tG2",
        "outputId": "64f11cf5-2667-434f-d5f2-0164ae7d80ca"
      },
      "execution_count": 27,
      "outputs": [
        {
          "output_type": "stream",
          "name": "stdout",
          "text": [
            "6547\n"
          ]
        }
      ]
    },
    {
      "cell_type": "code",
      "source": [
        "### Write a Python program to clone or copy a list\n",
        "l1=[99,54,12,1004,6547,21,20]\n",
        "l2=[]\n",
        "for i in l1:\n",
        "  l2.append(i)\n",
        "print(l2)"
      ],
      "metadata": {
        "colab": {
          "base_uri": "https://localhost:8080/"
        },
        "id": "KcDZUWcj4yyB",
        "outputId": "2193939c-31c0-4589-f7e4-c45c64adc5b6"
      },
      "execution_count": 28,
      "outputs": [
        {
          "output_type": "stream",
          "name": "stdout",
          "text": [
            "[99, 54, 12, 1004, 6547, 21, 20]\n"
          ]
        }
      ]
    },
    {
      "cell_type": "code",
      "source": [
        "### Write a Python program to remove item(s) from a given set.\n",
        "\n",
        "s = set([0, 1, 3, 4, 5])\n",
        "s.remove(3)\n",
        "print(s)"
      ],
      "metadata": {
        "colab": {
          "base_uri": "https://localhost:8080/"
        },
        "id": "wxDS9pEY5Dil",
        "outputId": "2a999efe-b382-44ac-cd90-d5f8399ef8e6"
      },
      "execution_count": 29,
      "outputs": [
        {
          "output_type": "stream",
          "name": "stdout",
          "text": [
            "{0, 1, 4, 5}\n"
          ]
        }
      ]
    },
    {
      "cell_type": "code",
      "source": [
        "### Write a Python program to find the maximum and minimum values in a set.\n",
        "s = set([0, 1, 3, 4, 5])\n",
        "print(f\"max is {max(s)}, min is {min(s)}\")\n"
      ],
      "metadata": {
        "colab": {
          "base_uri": "https://localhost:8080/"
        },
        "id": "F22-73q-5SAB",
        "outputId": "6fe4f8b7-11d7-4425-b035-9d2f85f8315d"
      },
      "execution_count": 31,
      "outputs": [
        {
          "output_type": "stream",
          "name": "stdout",
          "text": [
            "max is 5, min is 0\n"
          ]
        }
      ]
    },
    {
      "cell_type": "code",
      "source": [
        "### Write a Python program to convert a tuple to a dictionary.\n",
        "t1=((\"Omar\",9),(\"Khaled\",10))\n",
        "t1=dict(t1)\n",
        "print(t1)"
      ],
      "metadata": {
        "colab": {
          "base_uri": "https://localhost:8080/"
        },
        "id": "CNuDE8EJ5yKU",
        "outputId": "bb2b6b02-f7f6-46af-bb8e-af8d17cc7dd0"
      },
      "execution_count": 33,
      "outputs": [
        {
          "output_type": "stream",
          "name": "stdout",
          "text": [
            "{'Omar': 9, 'Khaled': 10}\n"
          ]
        }
      ]
    },
    {
      "cell_type": "code",
      "source": [
        "### Write a Python program to replace the last value of tuples in a list.\n",
        "\n",
        "### Sample list: [(10, 20, 40), (40, 50, 60), (70, 80, 90)]\n",
        "\n",
        "### Expected Output: [(10, 20, 100), (40, 50, 100), (70, 80, 100)]\n",
        "nums=[(10,20,30),(40,50,60),(70,80,90)]\n",
        "output=[(x,y,100) for x,y,z in nums ]\n",
        "print(output)\n"
      ],
      "metadata": {
        "colab": {
          "base_uri": "https://localhost:8080/"
        },
        "id": "vjB2ol0z6Mpr",
        "outputId": "04b1d1e4-b003-4095-9da0-9979ca31d5ad"
      },
      "execution_count": 34,
      "outputs": [
        {
          "output_type": "stream",
          "name": "stdout",
          "text": [
            "[(10, 20, 100), (40, 50, 100), (70, 80, 100)]\n"
          ]
        }
      ]
    }
  ]
}