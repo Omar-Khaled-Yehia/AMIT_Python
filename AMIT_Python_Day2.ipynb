{
  "cells": [
    {
      "cell_type": "code",
      "execution_count": null,
      "metadata": {
        "colab": {
          "base_uri": "https://localhost:8080/"
        },
        "id": "X3o8nLXJjEYl",
        "outputId": "5f1440d7-7069-48d8-b6f6-12f38f0fa454"
      },
      "outputs": [
        {
          "name": "stdout",
          "output_type": "stream",
          "text": [
            "Please enter two different numbers.\n",
            "\n",
            "Please enter the first number: 5\n",
            "Please enter the second number: 4\n",
            "First number is greater\n"
          ]
        }
      ],
      "source": [
        "# Excercise 1\n",
        "print(\"Please enter two different numbers.\\n\")\n",
        "first_num = float(input(\"Please enter the first number: \"))\n",
        "second_num = float(input(\"Please enter the second number: \"))\n",
        "if first_num > second_num:\n",
        "  print(\"First number is greater\")\n",
        "else:\n",
        "  print(\"Second number is greater\")"
      ]
    },
    {
      "cell_type": "code",
      "execution_count": null,
      "metadata": {
        "colab": {
          "base_uri": "https://localhost:8080/"
        },
        "id": "V9AgcK06oq9F",
        "outputId": "4b7f3b9e-8255-4204-fe94-421323b96b5d"
      },
      "outputs": [
        {
          "name": "stdout",
          "output_type": "stream",
          "text": [
            "Please enter three different numbers.\n",
            "\n",
            "Please enter the first number: 15\n",
            "Please enter the second number: 21\n",
            "Please enter the third number: 20\n",
            "Second number is greater\n"
          ]
        }
      ],
      "source": [
        "# Excercise 2\n",
        "print(\"Please enter three different numbers.\\n\")\n",
        "first_num = float(input(\"Please enter the first number: \"))\n",
        "second_num = float(input(\"Please enter the second number: \"))\n",
        "third_num = float(input(\"Please enter the third number: \"))\n",
        "if first_num > second_num and first_num > third_num:\n",
        "  print(\"First number is greater\")\n",
        "elif second_num > first_num and second_num > third_num:\n",
        "  print(\"Second number is greater\")\n",
        "else:\n",
        "    print(\"Third number is greater\")"
      ]
    },
    {
      "cell_type": "code",
      "execution_count": null,
      "metadata": {
        "colab": {
          "base_uri": "https://localhost:8080/"
        },
        "id": "0_PREyNXrU7i",
        "outputId": "c5a20006-fd10-4276-c173-a97a273af036"
      },
      "outputs": [
        {
          "name": "stdout",
          "output_type": "stream",
          "text": [
            "Please enter a number other than 0: -6\n",
            "Number is negative\n"
          ]
        }
      ],
      "source": [
        "# Excercise 3\n",
        "a = float(input(\"Please enter a number other than 0: \"))\n",
        "if a < 0:\n",
        "  print(\"Number is negative\")\n",
        "else:\n",
        "  print(\"Number is positive\")"
      ]
    },
    {
      "cell_type": "code",
      "execution_count": null,
      "metadata": {
        "colab": {
          "base_uri": "https://localhost:8080/"
        },
        "id": "hxikyh4Lr5bU",
        "outputId": "ef150feb-e504-408f-b38a-96d84dc7f74e"
      },
      "outputs": [
        {
          "name": "stdout",
          "output_type": "stream",
          "text": [
            "Please enter a number: 5\n",
            "Number is odd.\n"
          ]
        }
      ],
      "source": [
        "# Excercise 4\n",
        "a = float(input(\"Please enter a number: \"))\n",
        "if a%2==0:\n",
        "  print(\"Number is even.\")\n",
        "else:\n",
        "  print(\"Number is odd.\")"
      ]
    },
    {
      "cell_type": "code",
      "execution_count": null,
      "metadata": {
        "colab": {
          "background_save": true
        },
        "id": "89QaKBrVsKJU",
        "outputId": "0f841ba0-745a-4287-e37f-57f3d6c72e97"
      },
      "outputs": [
        {
          "name": "stdout",
          "output_type": "stream",
          "text": [
            "Leap year.\n"
          ]
        }
      ],
      "source": [
        "# Excercise 5\n",
        "year = int(input(\"Please enter a year: \"))\n",
        "if (year%4==0 and year%100==0 and year%400==0) or (year%4==0 and not year%100==0 ):\n",
        "  print(\"Leap year.\")\n",
        "else:\n",
        "  print(\"Not a leap year.\")"
      ]
    },
    {
      "cell_type": "code",
      "execution_count": null,
      "metadata": {
        "id": "TVcJTyGF4HnV"
      },
      "outputs": [],
      "source": [
        "# Excercise 6\n",
        "week_days=[\"Saturday\",\"Sunday\",\"Monday\",\"Tuesday\",\"Wednesday\",\"Thursday\",\"Friday\"]\n",
        "for (num,day) in enumerate(week_days,start=1):\n",
        "  print(num,day)"
      ]
    },
    {
      "cell_type": "code",
      "source": [
        "# Excercise 7\n",
        "i=97\n",
        "while i<=122:\n",
        "  print(chr(i),end=\" \")\n",
        "  i+=1"
      ],
      "metadata": {
        "colab": {
          "base_uri": "https://localhost:8080/"
        },
        "id": "CxKaCylWDXER",
        "outputId": "32dbe154-257c-46c7-c4ad-073ac58c891a"
      },
      "execution_count": 30,
      "outputs": [
        {
          "output_type": "stream",
          "name": "stdout",
          "text": [
            "a b c d e f g h i j k l m n o p q r s t u v w x y z "
          ]
        }
      ]
    },
    {
      "cell_type": "code",
      "source": [
        "# Excercise 8\n",
        "nums = input(\"Please enter some numbers with a comma in between: \").split()\n",
        "nums.sort(reverse=True)\n",
        "print(nums)"
      ],
      "metadata": {
        "colab": {
          "base_uri": "https://localhost:8080/"
        },
        "id": "Yg2zXG_ND67L",
        "outputId": "47a203f6-b52a-4a82-9e28-fd72f5b025ab"
      },
      "execution_count": 29,
      "outputs": [
        {
          "output_type": "stream",
          "name": "stdout",
          "text": [
            "Please enter some numbers with a comma in between: 0 5 84 75\n",
            "['84', '75', '5', '0']\n"
          ]
        }
      ]
    },
    {
      "cell_type": "code",
      "source": [
        "# Excercise 9\n",
        "num=int(input(\"Please enter a number: \"))\n",
        "for i in range(1,11):\n",
        "  print(f\"{num*i}\",end=\" \")"
      ],
      "metadata": {
        "colab": {
          "base_uri": "https://localhost:8080/"
        },
        "id": "-r_NnUEIHT5K",
        "outputId": "76b309b0-4f52-4069-ea47-9e656bc8ef75"
      },
      "execution_count": 6,
      "outputs": [
        {
          "output_type": "stream",
          "name": "stdout",
          "text": [
            "Please enter a number: 5\n",
            "5 10 15 20 25 30 35 40 45 50 "
          ]
        }
      ]
    },
    {
      "cell_type": "code",
      "source": [
        "# Excercise 10\n",
        "i=0\n",
        "while i<101:\n",
        "  print(i,end=\" \")\n",
        "  i+=1\n"
      ],
      "metadata": {
        "colab": {
          "base_uri": "https://localhost:8080/"
        },
        "id": "6YorKoekTpfH",
        "outputId": "ab7eaaf2-e6fa-4062-db13-64a6cbe8abf4"
      },
      "execution_count": 9,
      "outputs": [
        {
          "output_type": "stream",
          "name": "stdout",
          "text": [
            "0 1 2 3 4 5 6 7 8 9 10 11 12 13 14 15 16 17 18 19 20 21 22 23 24 25 26 27 28 29 30 31 32 33 34 35 36 37 38 39 40 41 42 43 44 45 46 47 48 49 50 51 52 53 54 55 56 57 58 59 60 61 62 63 64 65 66 67 68 69 70 71 72 73 74 75 76 77 78 79 80 81 82 83 84 85 86 87 88 89 90 91 92 93 94 95 96 97 98 99 100 "
          ]
        }
      ]
    }
  ],
  "metadata": {
    "colab": {
      "provenance": []
    },
    "kernelspec": {
      "display_name": "Python 3",
      "name": "python3"
    },
    "language_info": {
      "name": "python"
    }
  },
  "nbformat": 4,
  "nbformat_minor": 0
}