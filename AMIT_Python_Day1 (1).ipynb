{
  "nbformat": 4,
  "nbformat_minor": 0,
  "metadata": {
    "colab": {
      "provenance": []
    },
    "kernelspec": {
      "name": "python3",
      "display_name": "Python 3"
    },
    "language_info": {
      "name": "python"
    }
  },
  "cells": [
    {
      "cell_type": "code",
      "execution_count": null,
      "metadata": {
        "colab": {
          "base_uri": "https://localhost:8080/"
        },
        "id": "83j0p5QVr-2p",
        "outputId": "63f96373-fa35-45dd-9b63-1a8ed9f625b4"
      },
      "outputs": [
        {
          "output_type": "stream",
          "name": "stdout",
          "text": [
            "Twinkle, twinkle, little star,\n",
            "\tHow I wonder what you are!\n",
            "\t\tUp above the world so high,\n",
            "Twinkle, twinkle, little star,\n",
            "\tHow I wonder what you are!\n"
          ]
        }
      ],
      "source": [
        "# Exercise 1\n",
        "print(\"Twinkle, twinkle, little star,\\n\\tHow I wonder what you are!\\n\\t\\tUp above the world so high,\\nTwinkle, twinkle, little star,\\n\\tHow I wonder what you are!\")"
      ]
    },
    {
      "cell_type": "code",
      "source": [
        "# Exercise 2\n",
        "fname = \"Omar\"\n",
        "lname = \"Khaled\"\n",
        "print(lname +\" \" + fname)"
      ],
      "metadata": {
        "colab": {
          "base_uri": "https://localhost:8080/"
        },
        "id": "-RCKFK0_tE84",
        "outputId": "a9c129e2-d326-4e46-e5bc-2bbe27a89057"
      },
      "execution_count": null,
      "outputs": [
        {
          "output_type": "stream",
          "name": "stdout",
          "text": [
            "Khaled Omar\n"
          ]
        }
      ]
    },
    {
      "cell_type": "code",
      "source": [
        "# Exercise 3\n",
        "r = 1.1\n",
        "pi =3.14\n",
        "area = pi*(r**2)\n",
        "print(f\"area of circle is {area}\")"
      ],
      "metadata": {
        "colab": {
          "base_uri": "https://localhost:8080/"
        },
        "id": "8NFR28T7tGw8",
        "outputId": "d528ca89-af45-4c5b-8541-03c220400261"
      },
      "execution_count": null,
      "outputs": [
        {
          "output_type": "stream",
          "name": "stdout",
          "text": [
            "area of circle is 3.7994000000000008\n"
          ]
        }
      ]
    },
    {
      "cell_type": "code",
      "source": [
        "# Exercise 4\n",
        "name = \"abc.java\"\n",
        "extension = name.split(\".\")\n",
        "print(\"File extension is \" + extension[-1])"
      ],
      "metadata": {
        "colab": {
          "base_uri": "https://localhost:8080/"
        },
        "id": "g2zql5DEubdj",
        "outputId": "298bf87c-d7fa-4d4b-f7e2-10ec86292878"
      },
      "execution_count": null,
      "outputs": [
        {
          "output_type": "stream",
          "name": "stdout",
          "text": [
            "File extension is java\n"
          ]
        }
      ]
    },
    {
      "cell_type": "code",
      "source": [
        "# Exercise 5\n",
        "name = \"Amit\"\n",
        "l_name = list(name)\n",
        "t_name = tuple(name)\n",
        "print(\"list is \" , l_name)\n",
        "print(\"tuple is \" , t_name)\n",
        "l_name[3]=\"D\"\n",
        "print(l_name)\n",
        "s1=\"\".join(l_name)\n",
        "print((s1))"
      ],
      "metadata": {
        "colab": {
          "base_uri": "https://localhost:8080/"
        },
        "id": "0kEwu02Rz9Aw",
        "outputId": "8db1ff08-1405-4f98-8a01-60756a3c4259"
      },
      "execution_count": null,
      "outputs": [
        {
          "output_type": "stream",
          "name": "stdout",
          "text": [
            "list is  ['A', 'm', 'i', 't']\n",
            "tuple is  ('A', 'm', 'i', 't')\n",
            "['A', 'm', 'i', 'D']\n",
            "AmiD\n"
          ]
        }
      ]
    },
    {
      "cell_type": "code",
      "source": [
        "# Exercise 6\n",
        "color_list = [\"Red\",\"Green\",\"White\" ,\"Black\"]\n",
        "print(color_list[0],color_list[-1])"
      ],
      "metadata": {
        "colab": {
          "base_uri": "https://localhost:8080/"
        },
        "id": "Qi2oJY006qiF",
        "outputId": "1363adff-c929-4656-de6c-87681b9a3a3d"
      },
      "execution_count": null,
      "outputs": [
        {
          "output_type": "stream",
          "name": "stdout",
          "text": [
            "Red Black\n"
          ]
        }
      ]
    },
    {
      "cell_type": "code",
      "source": [
        "# Exercise 7\n",
        "print('''\n",
        " a string that you \"don't\" have to escape\n",
        " This\n",
        " is a  ....... multi-line\n",
        " heredoc string --------> example\n",
        " ''')"
      ],
      "metadata": {
        "colab": {
          "base_uri": "https://localhost:8080/"
        },
        "id": "g_Cc8cvd6_vC",
        "outputId": "774cbc0f-68b1-4997-81d9-1a966f25f3b5"
      },
      "execution_count": null,
      "outputs": [
        {
          "output_type": "stream",
          "name": "stdout",
          "text": [
            "\n",
            " a string that you \"don't\" have to escape\n",
            " This\n",
            " is a  ....... multi-line\n",
            " heredoc string --------> example\n",
            " \n"
          ]
        }
      ]
    },
    {
      "cell_type": "code",
      "source": [
        "# Exercise 8\n",
        "link = \"https://www.google.com/\"\n",
        "mail = \"aimt4536@gmail.com\"\n",
        "print(link.startswith(\"https\"))\n",
        "print(mail.endswith(\".com\"))\n"
      ],
      "metadata": {
        "colab": {
          "base_uri": "https://localhost:8080/"
        },
        "id": "QrbSCgjE8hhG",
        "outputId": "2a6421cb-fc49-4afd-a02d-b435333036f1"
      },
      "execution_count": null,
      "outputs": [
        {
          "output_type": "stream",
          "name": "stdout",
          "text": [
            "True\n",
            "True\n"
          ]
        }
      ]
    }
  ]
}